{
 "cells": [
  {
   "cell_type": "code",
   "execution_count": 1,
   "metadata": {},
   "outputs": [],
   "source": [
    "from analyze import read_csv\n",
    "import time\n",
    "\n",
    "X, y, df = read_csv()"
   ]
  },
  {
   "cell_type": "code",
   "execution_count": 10,
   "metadata": {},
   "outputs": [
    {
     "name": "stdout",
     "output_type": "stream",
     "text": [
      "runtime = 0.0008740425109863281\n",
      "slope =  [0.00904844]\n",
      "intercept =  1.1631562989045392\n"
     ]
    }
   ],
   "source": [
    "# lin reg with sklearn\n",
    "from sklearn.linear_model import LinearRegression\n",
    "\n",
    "lr = LinearRegression()\n",
    "start = time.time()\n",
    "lr.fit(X, y)\n",
    "end = time.time()\n",
    "print(\"runtime =\", end - start) # around 0.001s\n",
    "print(\"slope = \", lr.coef_)\n",
    "print(\"intercept = \", lr.intercept_)\n"
   ]
  },
  {
   "cell_type": "code",
   "execution_count": 14,
   "metadata": {},
   "outputs": [
    {
     "name": "stdout",
     "output_type": "stream",
     "text": [
      "0.00220489501953125\n",
      "slope =  0.009048440328491322\n",
      "intercept =  1.1631562989045388\n"
     ]
    }
   ],
   "source": [
    "# lin reg with df.cov(), df.var()\n",
    "from analyze import df_cov_var_lin_reg\n",
    "\n",
    "start = time.time()\n",
    "slope, intercept = df_cov_var_lin_reg(df)\n",
    "end = time.time()\n",
    "print(end - start) # around 0.0025s\n",
    "print(\"slope = \", slope)\n",
    "print(\"intercept = \", intercept)"
   ]
  },
  {
   "cell_type": "code",
   "execution_count": 12,
   "metadata": {},
   "outputs": [
    {
     "name": "stdout",
     "output_type": "stream",
     "text": [
      "runtime =  0.0015480518341064453\n",
      "slope =  0.009048440328491334\n",
      "intercept =  1.1631562989045365\n"
     ]
    }
   ],
   "source": [
    "# lin reg with explicit loops\n",
    "from analyze import loop_lin_reg\n",
    "\n",
    "start = time.time()\n",
    "loop_slope, loop_intercept = loop_lin_reg(X, y)\n",
    "end = time.time()\n",
    "print(\"runtime = \", end - start) # around 0.0018s\n",
    "print(\"slope = \", loop_slope)\n",
    "print(\"intercept = \", loop_intercept)"
   ]
  }
 ],
 "metadata": {
  "kernelspec": {
   "display_name": "ml",
   "language": "python",
   "name": "python3"
  },
  "language_info": {
   "codemirror_mode": {
    "name": "ipython",
    "version": 3
   },
   "file_extension": ".py",
   "mimetype": "text/x-python",
   "name": "python",
   "nbconvert_exporter": "python",
   "pygments_lexer": "ipython3",
   "version": "3.10.9"
  },
  "orig_nbformat": 4,
  "vscode": {
   "interpreter": {
    "hash": "5e42bf79f5bd7dd00f757b6a58ad4b03f09f2af530ac2a4ea0de63c66a72a2c9"
   }
  }
 },
 "nbformat": 4,
 "nbformat_minor": 2
}
