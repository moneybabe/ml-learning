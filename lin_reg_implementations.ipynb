{
 "cells": [
  {
   "cell_type": "code",
   "execution_count": 1,
   "metadata": {},
   "outputs": [],
   "source": [
    "from analyze import read_csv\n",
    "import time\n",
    "from sklearn.linear_model import LinearRegression\n",
    "\n",
    "X, y, df = read_csv()"
   ]
  },
  {
   "cell_type": "code",
   "execution_count": 2,
   "metadata": {},
   "outputs": [
    {
     "name": "stdout",
     "output_type": "stream",
     "text": [
      "runtime = 0.001157999038696289\n",
      "slope =  [0.00904844]\n",
      "intercept =  1.1631562989045392\n"
     ]
    }
   ],
   "source": [
    "lr = LinearRegression()\n",
    "start = time.time()\n",
    "lr.fit(X, y)\n",
    "end = time.time()\n",
    "print(\"runtime =\", end - start) # around 0.001s\n",
    "print(\"slope = \", lr.coef_)\n",
    "print(\"intercept = \", lr.intercept_)\n"
   ]
  },
  {
   "cell_type": "code",
   "execution_count": 3,
   "metadata": {},
   "outputs": [
    {
     "name": "stdout",
     "output_type": "stream",
     "text": [
      "0.003284931182861328\n",
      "slope =  0.009048440328491322\n",
      "intercept =  1.1631562989045388\n"
     ]
    }
   ],
   "source": [
    "df[\"X\"] = X\n",
    "start = time.time()\n",
    "cov = df.cov().iloc[0,1]\n",
    "var = df.var().iloc[1]\n",
    "slope = cov / var\n",
    "intercept = df.mean().loc[\"CPI\"] - slope*df.mean().loc[\"X\"]\n",
    "end = time.time()\n",
    "print(end - start) # around 0.0025s\n",
    "print(\"slope = \", slope)\n",
    "print(\"intercept = \", intercept)"
   ]
  },
  {
   "cell_type": "code",
   "execution_count": 4,
   "metadata": {},
   "outputs": [
    {
     "name": "stdout",
     "output_type": "stream",
     "text": [
      "runtime =  0.0018579959869384766\n",
      "slope =  0.009048440328491334\n",
      "intercept =  1.1631562989045365\n"
     ]
    }
   ],
   "source": [
    "start = time.time()\n",
    "sum = 0\n",
    "for i in y:\n",
    "    sum += i\n",
    "loop_y_mean = sum / len(y)\n",
    "\n",
    "sum = 0\n",
    "for i in X:\n",
    "    sum += i[0] \n",
    "    loop_X_mean = sum / len(X)\n",
    "\n",
    "loop_cov = 0\n",
    "for i in range(len(y)):\n",
    "    loop_cov += (X[i, 0] - loop_X_mean) * (y[i] - loop_y_mean)\n",
    "\n",
    "loop_var = 0\n",
    "for i in range(len(X)):\n",
    "    loop_var += (X[i, 0] - loop_X_mean) ** 2\n",
    "\n",
    "loop_slope = loop_cov / loop_var\n",
    "loop_intercept = loop_y_mean - (loop_slope * loop_X_mean)\n",
    "end = time.time()\n",
    "print(\"runtime = \", end - start) # around 0.0018s\n",
    "print(\"slope = \", loop_slope)\n",
    "print(\"intercept = \", loop_intercept)"
   ]
  }
 ],
 "metadata": {
  "kernelspec": {
   "display_name": "ml",
   "language": "python",
   "name": "python3"
  },
  "language_info": {
   "codemirror_mode": {
    "name": "ipython",
    "version": 3
   },
   "file_extension": ".py",
   "mimetype": "text/x-python",
   "name": "python",
   "nbconvert_exporter": "python",
   "pygments_lexer": "ipython3",
   "version": "3.10.9"
  },
  "orig_nbformat": 4
 },
 "nbformat": 4,
 "nbformat_minor": 2
}
